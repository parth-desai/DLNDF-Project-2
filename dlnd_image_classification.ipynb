{
 "cells": [
  {
   "cell_type": "markdown",
   "metadata": {
    "collapsed": true,
    "deletable": true,
    "editable": true
   },
   "source": [
    "# Image Classification\n",
    "In this project, you'll classify images from the [CIFAR-10 dataset](https://www.cs.toronto.edu/~kriz/cifar.html).  The dataset consists of airplanes, dogs, cats, and other objects. You'll preprocess the images, then train a convolutional neural network on all the samples. The images need to be normalized and the labels need to be one-hot encoded.  You'll get to apply what you learned and build a convolutional, max pooling, dropout, and fully connected layers.  At the end, you'll get to see your neural network's predictions on the sample images.\n",
    "## Get the Data\n",
    "Run the following cell to download the [CIFAR-10 dataset for python](https://www.cs.toronto.edu/~kriz/cifar-10-python.tar.gz)."
   ]
  },
  {
   "cell_type": "code",
   "execution_count": 1,
   "metadata": {
    "collapsed": false,
    "deletable": true,
    "editable": true
   },
   "outputs": [
    {
     "name": "stdout",
     "output_type": "stream",
     "text": [
      "All files found!\n"
     ]
    }
   ],
   "source": [
    "\"\"\"\n",
    "DON'T MODIFY ANYTHING IN THIS CELL THAT IS BELOW THIS LINE\n",
    "\"\"\"\n",
    "from urllib.request import urlretrieve\n",
    "from os.path import isfile, isdir\n",
    "from tqdm import tqdm\n",
    "import problem_unittests as tests\n",
    "import tarfile\n",
    "\n",
    "cifar10_dataset_folder_path = 'cifar-10-batches-py'\n",
    "\n",
    "class DLProgress(tqdm):\n",
    "    last_block = 0\n",
    "\n",
    "    def hook(self, block_num=1, block_size=1, total_size=None):\n",
    "        self.total = total_size\n",
    "        self.update((block_num - self.last_block) * block_size)\n",
    "        self.last_block = block_num\n",
    "\n",
    "if not isfile('cifar-10-python.tar.gz'):\n",
    "    with DLProgress(unit='B', unit_scale=True, miniters=1, desc='CIFAR-10 Dataset') as pbar:\n",
    "        urlretrieve(\n",
    "            'https://www.cs.toronto.edu/~kriz/cifar-10-python.tar.gz',\n",
    "            'cifar-10-python.tar.gz',\n",
    "            pbar.hook)\n",
    "\n",
    "if not isdir(cifar10_dataset_folder_path):\n",
    "    with tarfile.open('cifar-10-python.tar.gz') as tar:\n",
    "        tar.extractall()\n",
    "        tar.close()\n",
    "\n",
    "\n",
    "tests.test_folder_path(cifar10_dataset_folder_path)"
   ]
  },
  {
   "cell_type": "markdown",
   "metadata": {
    "deletable": true,
    "editable": true
   },
   "source": [
    "## Explore the Data\n",
    "The dataset is broken into batches to prevent your machine from running out of memory.  The CIFAR-10 dataset consists of 5 batches, named `data_batch_1`, `data_batch_2`, etc.. Each batch contains the labels and images that are one of the following:\n",
    "* airplane\n",
    "* automobile\n",
    "* bird\n",
    "* cat\n",
    "* deer\n",
    "* dog\n",
    "* frog\n",
    "* horse\n",
    "* ship\n",
    "* truck\n",
    "\n",
    "Understanding a dataset is part of making predictions on the data.  Play around with the code cell below by changing the `batch_id` and `sample_id`. The `batch_id` is the id for a batch (1-5). The `sample_id` is the id for a image and label pair in the batch.\n",
    "\n",
    "Ask yourself \"What are all possible labels?\", \"What is the range of values for the image data?\", \"Are the labels in order or random?\".  Answers to questions like these will help you preprocess the data and end up with better predictions."
   ]
  },
  {
   "cell_type": "code",
   "execution_count": 3,
   "metadata": {
    "collapsed": false,
    "deletable": true,
    "editable": true
   },
   "outputs": [
    {
     "name": "stdout",
     "output_type": "stream",
     "text": [
      "\n",
      "Stats of batch 1:\n",
      "Samples: 10000\n",
      "Label Counts: {0: 1005, 1: 974, 2: 1032, 3: 1016, 4: 999, 5: 937, 6: 1030, 7: 1001, 8: 1025, 9: 981}\n",
      "First 20 Labels: [6, 9, 9, 4, 1, 1, 2, 7, 8, 3, 4, 7, 7, 2, 9, 9, 9, 3, 2, 6]\n",
      "\n",
      "Example of Image 4:\n",
      "Image - Min Value: 0 Max Value: 254\n",
      "Image - Shape: (32, 32, 3)\n",
      "Label - Label Id: 1 Name: automobile\n"
     ]
    },
    {
     "data": {
      "image/png": "[encoded data removed]",
      "text/plain": [
       "<matplotlib.figure.Figure at 0x7f7e24492240>"
      ]
     },
     "metadata": {
      "image/png": {
       "height": 250,
       "width": 253
      }
     },
     "output_type": "display_data"
    }
   ],
   "source": [
    "%matplotlib inline\n",
    "%config InlineBackend.figure_format = 'retina'\n",
    "\n",
    "import helper\n",
    "import numpy as np\n",
    "\n",
    "# Explore the dataset\n",
    "batch_id = 1\n",
    "sample_id = 4\n",
    "helper.display_stats(cifar10_dataset_folder_path, batch_id, sample_id)"
   ]
  },
  {
   "cell_type": "markdown",
   "metadata": {
    "deletable": true,
    "editable": true
   },
   "source": [
    "## Implement Preprocess Functions\n",
    "### Normalize\n",
    "In the cell below, implement the `normalize` function to take in image data, `x`, and return it as a normalized Numpy array. The values should be in the range of 0 to 1, inclusive.  The return object should be the same shape as `x`."
   ]
  },
  {
   "cell_type": "code",
   "execution_count": 4,
   "metadata": {
    "collapsed": false,
    "deletable": true,
    "editable": true
   },
   "outputs": [
    {
     "name": "stdout",
     "output_type": "stream",
     "text": [
      "Tests Passed\n"
     ]
    }
   ],
   "source": [
    "def normalize(x):\n",
    "    \"\"\"\n",
    "    Normalize a list of sample image data in the range of 0 to 1\n",
    "    : x: List of image data.  The image shape is (32, 32, 3)\n",
    "    : return: Numpy array of normalize data\n",
    "    \"\"\"\n",
    "    # TODO: Implement Function\n",
    "    max_val =0\n",
    "    min_val =0\n",
    "    \n",
    "    for i in range(x.shape[0]):\n",
    "        max_val=x[i].max()\n",
    "        min_val=x[i].min()\n",
    "        x[i]=(x[i]-min_val)/(max_val-min_val)\n",
    "    return x\n",
    "\n",
    "\n",
    "\"\"\"\n",
    "DON'T MODIFY ANYTHING IN THIS CELL THAT IS BELOW THIS LINE\n",
    "\"\"\"\n",
    "tests.test_normalize(normalize)"
   ]
  },
  {
   "cell_type": "markdown",
   "metadata": {
    "deletable": true,
    "editable": true
   },
   "source": [
    "### One-hot encode\n",
    "Just like the previous code cell, you'll be implementing a function for preprocessing.  This time, you'll implement the `one_hot_encode` function. The input, `x`, are a list of labels.  Implement the function to return the list of labels as One-Hot encoded Numpy array.  The possible values for labels are 0 to 9. The one-hot encoding function should return the same encoding for each value between each call to `one_hot_encode`.  Make sure to save the map of encodings outside the function.\n",
    "\n",
    "Hint: Don't reinvent the wheel."
   ]
  },
  {
   "cell_type": "code",
   "execution_count": 5,
   "metadata": {
    "collapsed": false,
    "deletable": true,
    "editable": true
   },
   "outputs": [
    {
     "name": "stdout",
     "output_type": "stream",
     "text": [
      "Tests Passed\n"
     ]
    }
   ],
   "source": [
    "def one_hot_encode(x):\n",
    "    \"\"\"\n",
    "    One hot encode a list of sample labels. Return a one-hot encoded vector for each label.\n",
    "    : x: List of sample Labels\n",
    "    : return: Numpy array of one-hot encoded labels\n",
    "    \"\"\"\n",
    "    ret_array = np.zeros((len(x),10))\n",
    "    \n",
    "    #print(ret_array)\n",
    "    \n",
    "    for i in range(len(x)):\n",
    "        ret_array[i][x[i]]=1\n",
    "    \n",
    "    \n",
    "        \n",
    "    return ret_array\n",
    "\n",
    "\n",
    "\"\"\"\n",
    "DON'T MODIFY ANYTHING IN THIS CELL THAT IS BELOW THIS LINE\n",
    "\"\"\"\n",
    "tests.test_one_hot_encode(one_hot_encode)"
   ]
  },
  {
   "cell_type": "markdown",
   "metadata": {
    "deletable": true,
    "editable": true
   },
   "source": [
    "### Randomize Data\n",
    "As you saw from exploring the data above, the order of the samples are randomized.  It doesn't hurt to randomize it again, but you don't need to for this dataset."
   ]
  },
  {
   "cell_type": "markdown",
   "metadata": {
    "deletable": true,
    "editable": true
   },
   "source": [
    "## Preprocess all the data and save it\n",
    "Running the code cell below will preprocess all the CIFAR-10 data and save it to file. The code below also uses 10% of the training data for validation."
   ]
  },
  {
   "cell_type": "code",
   "execution_count": 1,
   "metadata": {
    "collapsed": false,
    "deletable": true,
    "editable": true
   },
   "outputs": [
    {
     "ename": "NameError",
     "evalue": "name 'helper' is not defined",
     "output_type": "error",
     "traceback": [
      "\u001b[0;31m---------------------------------------------------------------------------\u001b[0m",
      "\u001b[0;31mNameError\u001b[0m                                 Traceback (most recent call last)",
      "\u001b[0;32m<ipython-input-1-2e43b03e04f3>\u001b[0m in \u001b[0;36m<module>\u001b[0;34m()\u001b[0m\n\u001b[1;32m      3\u001b[0m \"\"\"\n\u001b[1;32m      4\u001b[0m \u001b[0;31m# Preprocess Training, Validation, and Testing Data\u001b[0m\u001b[0;34m\u001b[0m\u001b[0;34m\u001b[0m\u001b[0m\n\u001b[0;32m----> 5\u001b[0;31m \u001b[0mhelper\u001b[0m\u001b[0;34m.\u001b[0m\u001b[0mpreprocess_and_save_data\u001b[0m\u001b[0;34m(\u001b[0m\u001b[0mcifar10_dataset_folder_path\u001b[0m\u001b[0;34m,\u001b[0m \u001b[0mnormalize\u001b[0m\u001b[0;34m,\u001b[0m \u001b[0mone_hot_encode\u001b[0m\u001b[0;34m)\u001b[0m\u001b[0;34m\u001b[0m\u001b[0m\n\u001b[0m",
      "\u001b[0;31mNameError\u001b[0m: name 'helper' is not defined"
     ]
    }
   ],
   "source": [
    "\"\"\"\n",
    "DON'T MODIFY ANYTHING IN THIS CELL\n",
    "\"\"\"\n",
    "# Preprocess Training, Validation, and Testing Data\n",
    "helper.preprocess_and_save_data(cifar10_dataset_folder_path, normalize, one_hot_encode)"
   ]
  },
  {
   "cell_type": "markdown",
   "metadata": {
    "deletable": true,
    "editable": true
   },
   "source": [
    "# Check Point\n",
    "This is your first checkpoint.  If you ever decide to come back to this notebook or have to restart the notebook, you can start from here.  The preprocessed data has been saved to disk."
   ]
  },
  {
   "cell_type": "code",
   "execution_count": 2,
   "metadata": {
    "collapsed": true,
    "deletable": true,
    "editable": true
   },
   "outputs": [],
   "source": [
    "\"\"\"\n",
    "DON'T MODIFY ANYTHING IN THIS CELL\n",
    "\"\"\"\n",
    "import pickle\n",
    "import problem_unittests as tests\n",
    "import helper\n",
    "\n",
    "# Load the Preprocessed Validation data\n",
    "valid_features, valid_labels = pickle.load(open('preprocess_validation.p', mode='rb'))"
   ]
  },
  {
   "cell_type": "markdown",
   "metadata": {
    "deletable": true,
    "editable": true
   },
   "source": [
    "## Build the network\n",
    "For the neural network, you'll build each layer into a function.  Most of the code you've seen has been outside of functions. To test your code more thoroughly, we require that you put each layer in a function.  This allows us to give you better feedback and test for simple mistakes using our unittests before you submit your project.\n",
    "\n",
    ">**Note:** If you're finding it hard to dedicate enough time for this course each week, we've provided a small shortcut to this part of the project. In the next couple of problems, you'll have the option to use classes from the [TensorFlow Layers](https://www.tensorflow.org/api_docs/python/tf/layers) or [TensorFlow Layers (contrib)](https://www.tensorflow.org/api_guides/python/contrib.layers) packages to build each layer, except the layers you build in the \"Convolutional and Max Pooling Layer\" section.  TF Layers is similar to Keras's and TFLearn's abstraction to layers, so it's easy to pickup.\n",
    "\n",
    ">However, if you would like to get the most out of this course, try to solve all the problems _without_ using anything from the TF Layers packages. You **can** still use classes from other packages that happen to have the same name as ones you find in TF Layers! For example, instead of using the TF Layers version of the `conv2d` class, [tf.layers.conv2d](https://www.tensorflow.org/api_docs/python/tf/layers/conv2d), you would want to use the TF Neural Network version of `conv2d`, [tf.nn.conv2d](https://www.tensorflow.org/api_docs/python/tf/nn/conv2d). \n",
    "\n",
    "Let's begin!\n",
    "\n",
    "### Input\n",
    "The neural network needs to read the image data, one-hot encoded labels, and dropout keep probability. Implement the following functions\n",
    "* Implement `neural_net_image_input`\n",
    " * Return a [TF Placeholder](https://www.tensorflow.org/api_docs/python/tf/placeholder)\n",
    " * Set the shape using `image_shape` with batch size set to `None`.\n",
    " * Name the TensorFlow placeholder \"x\" using the TensorFlow `name` parameter in the [TF Placeholder](https://www.tensorflow.org/api_docs/python/tf/placeholder).\n",
    "* Implement `neural_net_label_input`\n",
    " * Return a [TF Placeholder](https://www.tensorflow.org/api_docs/python/tf/placeholder)\n",
    " * Set the shape using `n_classes` with batch size set to `None`.\n",
    " * Name the TensorFlow placeholder \"y\" using the TensorFlow `name` parameter in the [TF Placeholder](https://www.tensorflow.org/api_docs/python/tf/placeholder).\n",
    "* Implement `neural_net_keep_prob_input`\n",
    " * Return a [TF Placeholder](https://www.tensorflow.org/api_docs/python/tf/placeholder) for dropout keep probability.\n",
    " * Name the TensorFlow placeholder \"keep_prob\" using the TensorFlow `name` parameter in the [TF Placeholder](https://www.tensorflow.org/api_docs/python/tf/placeholder).\n",
    "\n",
    "These names will be used at the end of the project to load your saved model.\n",
    "\n",
    "Note: `None` for shapes in TensorFlow allow for a dynamic size."
   ]
  },
  {
   "cell_type": "code",
   "execution_count": 3,
   "metadata": {
    "collapsed": false,
    "deletable": true,
    "editable": true
   },
   "outputs": [
    {
     "name": "stdout",
     "output_type": "stream",
     "text": [
      "Image Input Tests Passed.\n",
      "Label Input Tests Passed.\n",
      "Keep Prob Tests Passed.\n"
     ]
    }
   ],
   "source": [
    "import tensorflow as tf\n",
    "\n",
    "def neural_net_image_input(image_shape):\n",
    "    \"\"\"\n",
    "    Return a Tensor for a batch of image input\n",
    "    : image_shape: Shape of the images\n",
    "    : return: Tensor for image input.\n",
    "    \"\"\"\n",
    "    # TODO: Implement Function\n",
    "    \n",
    "    return (tf.placeholder(dtype=tf.float32,shape=(None,image_shape[0],image_shape[1],image_shape[2]),name=\"x\"))\n",
    "\n",
    "\n",
    "def neural_net_label_input(n_classes):\n",
    "    \"\"\"\n",
    "    Return a Tensor for a batch of label input\n",
    "    : n_classes: Number of classes\n",
    "    : return: Tensor for label input.\n",
    "    \"\"\"\n",
    "    # TODO: Implement Function\n",
    "    return tf.placeholder(dtype=tf.float32,shape=(None,n_classes),name='y')\n",
    "\n",
    "\n",
    "def neural_net_keep_prob_input():\n",
    "    \"\"\"\n",
    "    Return a Tensor for keep probability\n",
    "    : return: Tensor for keep probability.\n",
    "    \"\"\"\n",
    "    # TODO: Implement Function\n",
    "    return tf.placeholder(dtype=tf.float32,name='keep_prob')\n",
    "\n",
    "\n",
    "\"\"\"\n",
    "DON'T MODIFY ANYTHING IN THIS CELL THAT IS BELOW THIS LINE\n",
    "\"\"\"\n",
    "tf.reset_default_graph()\n",
    "tests.test_nn_image_inputs(neural_net_image_input)\n",
    "tests.test_nn_label_inputs(neural_net_label_input)\n",
    "tests.test_nn_keep_prob_inputs(neural_net_keep_prob_input)"
   ]
  },
  {
   "cell_type": "markdown",
   "metadata": {
    "deletable": true,
    "editable": true
   },
   "source": [
    "### Convolution and Max Pooling Layer\n",
    "Convolution layers have a lot of success with images. For this code cell, you should implement the function `conv2d_maxpool` to apply convolution then max pooling:\n",
    "* Create the weight and bias using `conv_ksize`, `conv_num_outputs` and the shape of `x_tensor`.\n",
    "* Apply a convolution to `x_tensor` using weight and `conv_strides`.\n",
    " * We recommend you use same padding, but you're welcome to use any padding.\n",
    "* Add bias\n",
    "* Add a nonlinear activation to the convolution.\n",
    "* Apply Max Pooling using `pool_ksize` and `pool_strides`.\n",
    " * We recommend you use same padding, but you're welcome to use any padding.\n",
    "\n",
    "**Note:** You **can't** use [TensorFlow Layers](https://www.tensorflow.org/api_docs/python/tf/layers) or [TensorFlow Layers (contrib)](https://www.tensorflow.org/api_guides/python/contrib.layers) for **this** layer, but you can still use TensorFlow's [Neural Network](https://www.tensorflow.org/api_docs/python/tf/nn) package. You may still use the shortcut option for all the **other** layers."
   ]
  },
  {
   "cell_type": "code",
   "execution_count": 4,
   "metadata": {
    "collapsed": false,
    "deletable": true,
    "editable": true
   },
   "outputs": [
    {
     "name": "stdout",
     "output_type": "stream",
     "text": [
      "Tests Passed\n"
     ]
    }
   ],
   "source": [
    "def conv2d_maxpool(x_tensor, conv_num_outputs, conv_ksize, conv_strides, pool_ksize, pool_strides):\n",
    "    \"\"\"\n",
    "    Apply convolution then max pooling to x_tensor\n",
    "    :param x_tensor: TensorFlow Tensor\n",
    "    :param conv_num_outputs: Number of outputs for the convolutional layer\n",
    "    :param conv_ksize: kernal size 2-D Tuple for the convolutional layer\n",
    "    :param conv_strides: Stride 2-D Tuple for convolution\n",
    "    :param pool_ksize: kernal size 2-D Tuple for pool\n",
    "    :param pool_strides: Stride 2-D Tuple for pool\n",
    "    : return: A tensor that represents convolution and max pooling of x_tensor\n",
    "    \"\"\"\n",
    "    # TODO: Implement Function\n",
    "    \n",
    "    \n",
    "    ## define filter weights for convolution layer\n",
    "    weight = tf.Variable(tf.random_normal([conv_ksize[0],\n",
    "                                           conv_ksize[1],\n",
    "                                           x_tensor.get_shape().as_list()[-1], \n",
    "                                           conv_num_outputs],\n",
    "                                         stddev=0.1))\n",
    "    bias = tf.Variable(tf.zeros(conv_num_outputs, dtype=tf.float32))\n",
    "    \n",
    "    # define strides  for convolution layer\n",
    "    strides=[1,\n",
    "             conv_strides[0],\n",
    "             conv_strides[1],\n",
    "             1]\n",
    "    \n",
    "    # define padding style for convolution layer\n",
    "    padding_='SAME'\n",
    "    \n",
    "    # convolution operation on input tensor\n",
    "    conv = tf.nn.conv2d(\n",
    "        x_tensor,\n",
    "        weight,\n",
    "        strides,\n",
    "        padding_) \n",
    "    \n",
    "    # adding bias to convolution layer\n",
    "    conv= tf.nn.bias_add(conv,bias)\n",
    "    \n",
    "    # Applying non linearity\n",
    "    relu = tf.nn.relu(conv)\n",
    "    \n",
    "    # pooling filter size\n",
    "    pooling_ksize=[1,\n",
    "                   pool_ksize[0],\n",
    "                   pool_ksize[1],\n",
    "                   1]\n",
    "    # pooling stride size\n",
    "    pooling_strides=[1,\n",
    "                     pool_strides[0],\n",
    "                     pool_strides[1],\n",
    "                     1]\n",
    "    # Applying pooling operation\n",
    "    pool= tf.nn.max_pool(\n",
    "        conv,\n",
    "        ksize=pooling_ksize,\n",
    "        strides=pooling_strides,\n",
    "        padding='SAME')\n",
    "    \n",
    "    \n",
    "    \n",
    "    \n",
    "    \n",
    "    \n",
    "    return pool \n",
    "\"\"\"\n",
    "\n",
    "    weight = tf.Variable(tf.random_normal([conv_ksize[0],\n",
    "                                           conv_ksize[1],\n",
    "                                           x_tensor.get_shape().as_list()[-1], \n",
    "                                           conv_num_outputs],\n",
    "                                         stddev=0.1))\n",
    "    bias = tf.Variable(tf.zeros(conv_num_outputs, dtype=tf.float32))\n",
    "    conv_layer = tf.nn.conv2d(x_tensor, weight, strides=[1, conv_strides[0], conv_strides[1], 1], padding='SAME')\n",
    "    conv_layer = tf.nn.bias_add(conv_layer, bias)\n",
    "    conv_layer = tf.nn.relu(conv_layer)\n",
    "    conv_layer = tf.nn.max_pool(conv_layer, \n",
    "                                ksize=[1, pool_ksize[0], pool_ksize[1], 1], \n",
    "                                strides=[1, pool_strides[0], pool_strides[1], 1],\n",
    "                                padding='SAME')\n",
    "    return conv_layer\n",
    "  \"\"\"  \n",
    "\"\"\"\n",
    "DON'T MODIFY ANYTHING IN THIS CELL THAT IS BELOW THIS LINE\n",
    "\"\"\"\n",
    "tests.test_con_pool(conv2d_maxpool)"
   ]
  },
  {
   "cell_type": "markdown",
   "metadata": {
    "deletable": true,
    "editable": true
   },
   "source": [
    "### Flatten Layer\n",
    "Implement the `flatten` function to change the dimension of `x_tensor` from a 4-D tensor to a 2-D tensor.  The output should be the shape (*Batch Size*, *Flattened Image Size*). Shortcut option: you can use classes from the [TensorFlow Layers](https://www.tensorflow.org/api_docs/python/tf/layers) or [TensorFlow Layers (contrib)](https://www.tensorflow.org/api_guides/python/contrib.layers) packages for this layer. For more of a challenge, only use other TensorFlow packages."
   ]
  },
  {
   "cell_type": "code",
   "execution_count": 5,
   "metadata": {
    "collapsed": false,
    "deletable": true,
    "editable": true
   },
   "outputs": [
    {
     "name": "stdout",
     "output_type": "stream",
     "text": [
      "Tests Passed\n"
     ]
    }
   ],
   "source": [
    "import numpy \n",
    "def flatten(x_tensor):\n",
    "    \"\"\"\n",
    "    Flatten x_tensor to (Batch Size, Flattened Image Size)\n",
    "    : x_tensor: A tensor of size (Batch Size, ...), where ... are the image dimensions.\n",
    "    : return: A tensor of size (Batch Size, Flattened Image Size).\n",
    "    \"\"\"\n",
    "    # TODO: Implement Function\n",
    "    shape = x_tensor.get_shape().as_list()        \n",
    "    dim = numpy.prod(shape[1:])            \n",
    "    x2 = tf.reshape(x_tensor, [-1, dim])           # -1 means \"all\"\n",
    "    return x2\n",
    "\n",
    "\n",
    "\"\"\"\n",
    "DON'T MODIFY ANYTHING IN THIS CELL THAT IS BELOW THIS LINE\n",
    "\"\"\"\n",
    "tests.test_flatten(flatten)"
   ]
  },
  {
   "cell_type": "markdown",
   "metadata": {
    "deletable": true,
    "editable": true
   },
   "source": [
    "### Fully-Connected Layer\n",
    "Implement the `fully_conn` function to apply a fully connected layer to `x_tensor` with the shape (*Batch Size*, *num_outputs*). Shortcut option: you can use classes from the [TensorFlow Layers](https://www.tensorflow.org/api_docs/python/tf/layers) or [TensorFlow Layers (contrib)](https://www.tensorflow.org/api_guides/python/contrib.layers) packages for this layer. For more of a challenge, only use other TensorFlow packages."
   ]
  },
  {
   "cell_type": "code",
   "execution_count": 6,
   "metadata": {
    "collapsed": false,
    "deletable": true,
    "editable": true
   },
   "outputs": [
    {
     "name": "stdout",
     "output_type": "stream",
     "text": [
      "Tests Passed\n"
     ]
    }
   ],
   "source": [
    "def fully_conn(x_tensor, num_outputs):\n",
    "    \"\"\"\n",
    "    Apply a fully connected layer to x_tensor using weight and bias\n",
    "    : x_tensor: A 2-D tensor where the first dimension is batch size.\n",
    "    : num_outputs: The number of output that the new tensor should be.\n",
    "    : return: A 2-D tensor where the second dimension is num_outputs.\n",
    "    \"\"\"\n",
    "    # TODO: Implement Function\n",
    "    w = tf.Variable(\n",
    "        tf.random_normal(shape=(x_tensor.get_shape().as_list()[1],num_outputs),stddev=0.1))\n",
    "    biases = tf.Variable(tf.zeros(num_outputs))\n",
    "    \n",
    "    fc = tf.add(tf.matmul(x_tensor, w), biases)\n",
    "    fc = tf.nn.relu(fc)\n",
    "    \n",
    "    return fc\n",
    "\n",
    "\n",
    "\"\"\"\n",
    "DON'T MODIFY ANYTHING IN THIS CELL THAT IS BELOW THIS LINE\n",
    "\"\"\"\n",
    "tests.test_fully_conn(fully_conn)"
   ]
  },
  {
   "cell_type": "markdown",
   "metadata": {
    "deletable": true,
    "editable": true
   },
   "source": [
    "### Output Layer\n",
    "Implement the `output` function to apply a fully connected layer to `x_tensor` with the shape (*Batch Size*, *num_outputs*). Shortcut option: you can use classes from the [TensorFlow Layers](https://www.tensorflow.org/api_docs/python/tf/layers) or [TensorFlow Layers (contrib)](https://www.tensorflow.org/api_guides/python/contrib.layers) packages for this layer. For more of a challenge, only use other TensorFlow packages.\n",
    "\n",
    "**Note:** Activation, softmax, or cross entropy should **not** be applied to this."
   ]
  },
  {
   "cell_type": "code",
   "execution_count": 7,
   "metadata": {
    "collapsed": false,
    "deletable": true,
    "editable": true
   },
   "outputs": [
    {
     "name": "stdout",
     "output_type": "stream",
     "text": [
      "Tests Passed\n"
     ]
    }
   ],
   "source": [
    "def output(x_tensor, num_outputs):\n",
    "    \"\"\"\n",
    "    Apply a output layer to x_tensor using weight and bias\n",
    "    : x_tensor: A 2-D tensor where the first dimension is batch size.\n",
    "    : num_outputs: The number of output that the new tensor should be.\n",
    "    : return: A 2-D tensor where the second dimension is num_outputs.\n",
    "    \"\"\"\n",
    "    # TODO: Implement Function\n",
    "    w = tf.Variable(\n",
    "        tf.random_normal(shape=(x_tensor.get_shape().as_list()[1],num_outputs),stddev=0.1))\n",
    "    biases = tf.Variable(tf.zeros(num_outputs))\n",
    "    \n",
    "    output = tf.add(tf.matmul(x_tensor, w), biases)\n",
    "    return output\n",
    "\n",
    "\n",
    "\"\"\"\n",
    "DON'T MODIFY ANYTHING IN THIS CELL THAT IS BELOW THIS LINE\n",
    "\"\"\"\n",
    "tests.test_output(output)"
   ]
  },
  {
   "cell_type": "markdown",
   "metadata": {
    "deletable": true,
    "editable": true
   },
   "source": [
    "### Create Convolutional Model\n",
    "Implement the function `conv_net` to create a convolutional neural network model. The function takes in a batch of images, `x`, and outputs logits.  Use the layers you created above to create this model:\n",
    "\n",
    "* Apply 1, 2, or 3 Convolution and Max Pool layers\n",
    "* Apply a Flatten Layer\n",
    "* Apply 1, 2, or 3 Fully Connected Layers\n",
    "* Apply an Output Layer\n",
    "* Return the output\n",
    "* Apply [TensorFlow's Dropout](https://www.tensorflow.org/api_docs/python/tf/nn/dropout) to one or more layers in the model using `keep_prob`. "
   ]
  },
  {
   "cell_type": "code",
   "execution_count": 8,
   "metadata": {
    "collapsed": false,
    "deletable": true,
    "editable": true
   },
   "outputs": [
    {
     "name": "stdout",
     "output_type": "stream",
     "text": [
      "Neural Network Built!\n"
     ]
    }
   ],
   "source": [
    "def conv_net(x, keep_prob):\n",
    "    \"\"\"\n",
    "    Create a convolutional neural network model\n",
    "    : x: Placeholder tensor that holds image data.\n",
    "    : keep_prob: Placeholder tensor that hold dropout keep probability.\n",
    "    : return: Tensor that represents logits\n",
    "    \"\"\"\n",
    "    \"\"\"\n",
    "    :param x_tensor: TensorFlow Tensor\n",
    "    :param conv_num_outputs: Number of outputs for the convolutional layer\n",
    "    :param conv_ksize: kernal size 2-D Tuple for the convolutional layer\n",
    "    :param conv_strides: Stride 2-D Tuple for convolution\n",
    "    :param pool_ksize: kernal size 2-D Tuple for pool\n",
    "    :param pool_strides: Stride 2-D Tuple for pool\n",
    "    \"\"\"\n",
    "    # TODO: Apply 1, 2, or 3 Convolution and Max Pool layers\n",
    "    #    Play around with different number of outputs, kernel size and stride\n",
    "    # Function Definition from Above:\n",
    "    #    conv2d_maxpool(x_tensor, conv_num_outputs, conv_ksize, conv_strides, pool_ksize, pool_strides)\n",
    "    \n",
    "    conv_num_outputs = 20\n",
    "    conv_ksize = (4,4)\n",
    "    conv_strides = (1,1)\n",
    "    pool_ksize = (2,2)\n",
    "    pool_strides = (2,2)\n",
    "    \n",
    "    conv = conv2d_maxpool(x,conv_num_outputs,conv_ksize,conv_strides,pool_ksize,pool_strides)\n",
    "    conv_num_outputs = 30\n",
    "    conv = conv2d_maxpool(conv,conv_num_outputs,conv_ksize,conv_strides,pool_ksize,pool_strides)\n",
    "    conv_num_outputs = 40\n",
    "    conv = conv2d_maxpool(conv,conv_num_outputs,conv_ksize,conv_strides,pool_ksize,pool_strides)\n",
    "    \n",
    "    # TODO: Apply a Flatten Layer\n",
    "    # Function Definition from Above:\n",
    "    #   flatten(x_tensor)\n",
    "    flat=flatten(conv)\n",
    "\n",
    "    # TODO: Apply 1, 2, or 3 Fully Connected Layers\n",
    "    #    Play around with different number of outputs\n",
    "    # Function Definition from Above:\n",
    "    #   fully_conn(x_tensor, num_outputs)\n",
    "    fc= fully_conn(flat,1024)\n",
    "    fc= tf.nn.dropout(fc,keep_prob=keep_prob)\n",
    "    \n",
    "    fc= fully_conn(fc,1024)\n",
    "    fc= tf.nn.dropout(fc,keep_prob=keep_prob)\n",
    "    \n",
    "    fc= fully_conn(fc,1024)\n",
    "    fc= tf.nn.dropout(fc,keep_prob=keep_prob)\n",
    "    \n",
    "    # TODO: Apply an Output Layer\n",
    "    #    Set this to the number of classes\n",
    "    # Function Definition from Above:\n",
    "    #   output(x_tensor, num_outputs)\n",
    "    op = output(fc,10)\n",
    "    \n",
    "    # TODO: return output\n",
    "    return op\n",
    "\n",
    "\n",
    "\"\"\"\n",
    "DON'T MODIFY ANYTHING IN THIS CELL THAT IS BELOW THIS LINE\n",
    "\"\"\"\n",
    "\n",
    "##############################\n",
    "## Build the Neural Network ##\n",
    "##############################\n",
    "\n",
    "# Remove previous weights, bias, inputs, etc..\n",
    "tf.reset_default_graph()\n",
    "\n",
    "# Inputs\n",
    "x = neural_net_image_input((32, 32, 3))\n",
    "y = neural_net_label_input(10)\n",
    "keep_prob = neural_net_keep_prob_input()\n",
    "\n",
    "# Model\n",
    "logits = conv_net(x, keep_prob)\n",
    "\n",
    "# Name logits Tensor, so that is can be loaded from disk after training\n",
    "logits = tf.identity(logits, name='logits')\n",
    "\n",
    "# Loss and Optimizer\n",
    "cost = tf.reduce_mean(tf.nn.softmax_cross_entropy_with_logits(logits=logits, labels=y))\n",
    "optimizer = tf.train.AdamOptimizer().minimize(cost)\n",
    "\n",
    "# Accuracy\n",
    "correct_pred = tf.equal(tf.argmax(logits, 1), tf.argmax(y, 1))\n",
    "accuracy = tf.reduce_mean(tf.cast(correct_pred, tf.float32), name='accuracy')\n",
    "\n",
    "tests.test_conv_net(conv_net)"
   ]
  },
  {
   "cell_type": "markdown",
   "metadata": {
    "deletable": true,
    "editable": true
   },
   "source": [
    "## Train the Neural Network\n",
    "### Single Optimization\n",
    "Implement the function `train_neural_network` to do a single optimization.  The optimization should use `optimizer` to optimize in `session` with a `feed_dict` of the following:\n",
    "* `x` for image input\n",
    "* `y` for labels\n",
    "* `keep_prob` for keep probability for dropout\n",
    "\n",
    "This function will be called for each batch, so `tf.global_variables_initializer()` has already been called.\n",
    "\n",
    "Note: Nothing needs to be returned. This function is only optimizing the neural network."
   ]
  },
  {
   "cell_type": "code",
   "execution_count": 9,
   "metadata": {
    "collapsed": false,
    "deletable": true,
    "editable": true
   },
   "outputs": [
    {
     "name": "stdout",
     "output_type": "stream",
     "text": [
      "Tests Passed\n"
     ]
    }
   ],
   "source": [
    "def train_neural_network(session, optimizer, keep_probability, feature_batch, label_batch):\n",
    "    \"\"\"\n",
    "    Optimize the session on a batch of images and labels\n",
    "    : session: Current TensorFlow session\n",
    "    : optimizer: TensorFlow optimizer function\n",
    "    : keep_probability: keep probability\n",
    "    : feature_batch: Batch of Numpy image data\n",
    "    : label_batch: Batch of Numpy label data\n",
    "    \"\"\"\n",
    "    # TODO: Implement Function\n",
    "    session.run(optimizer, feed_dict={x: feature_batch, y: label_batch,\n",
    "                                       keep_prob: keep_probability})\n",
    "\n",
    "\"\"\"\n",
    "DON'T MODIFY ANYTHING IN THIS CELL THAT IS BELOW THIS LINE\n",
    "\"\"\"\n",
    "tests.test_train_nn(train_neural_network)"
   ]
  },
  {
   "cell_type": "markdown",
   "metadata": {
    "deletable": true,
    "editable": true
   },
   "source": [
    "### Show Stats\n",
    "Implement the function `print_stats` to print loss and validation accuracy.  Use the global variables `valid_features` and `valid_labels` to calculate validation accuracy.  Use a keep probability of `1.0` to calculate the loss and validation accuracy."
   ]
  },
  {
   "cell_type": "code",
   "execution_count": 10,
   "metadata": {
    "collapsed": false,
    "deletable": true,
    "editable": true
   },
   "outputs": [],
   "source": [
    "def print_stats(session, feature_batch, label_batch, cost, accuracy):\n",
    "    \"\"\"\n",
    "    Print information about loss and validation accuracy\n",
    "    : session: Current TensorFlow session\n",
    "    : feature_batch: Batch of Numpy image data\n",
    "    : label_batch: Batch of Numpy label data\n",
    "    : cost: TensorFlow cost function\n",
    "    : accuracy: TensorFlow accuracy function\n",
    "    \"\"\"\n",
    "    # TODO: Implement Function\n",
    "    loss, acc = sess.run([cost, accuracy], feed_dict={x: feature_batch,\n",
    "                                                              y: label_batch,\n",
    "                                                              keep_prob: 1.})\n",
    "    print( \"cost= \" + \"{:.6f}\".format(loss) + \", Accuracy= \" +  \"{:.5f}\".format(acc))\n",
    "    "
   ]
  },
  {
   "cell_type": "markdown",
   "metadata": {
    "deletable": true,
    "editable": true
   },
   "source": [
    "### Hyperparameters\n",
    "Tune the following parameters:\n",
    "* Set `epochs` to the number of iterations until the network stops learning or start overfitting\n",
    "* Set `batch_size` to the highest number that your machine has memory for.  Most people set them to common sizes of memory:\n",
    " * 64\n",
    " * 128\n",
    " * 256\n",
    " * ...\n",
    "* Set `keep_probability` to the probability of keeping a node using dropout"
   ]
  },
  {
   "cell_type": "code",
   "execution_count": 11,
   "metadata": {
    "collapsed": true,
    "deletable": true,
    "editable": true
   },
   "outputs": [],
   "source": [
    "# TODO: Tune Parameters\n",
    "epochs = 30\n",
    "batch_size = 2048\n",
    "keep_probability = 0.9"
   ]
  },
  {
   "cell_type": "markdown",
   "metadata": {
    "deletable": true,
    "editable": true
   },
   "source": [
    "### Train on a Single CIFAR-10 Batch\n",
    "Instead of training the neural network on all the CIFAR-10 batches of data, let's use a single batch. This should save time while you iterate on the model to get a better accuracy.  Once the final validation accuracy is 50% or greater, run the model on all the data in the next section."
   ]
  },
  {
   "cell_type": "code",
   "execution_count": 12,
   "metadata": {
    "collapsed": false,
    "deletable": true,
    "editable": true
   },
   "outputs": [
    {
     "name": "stdout",
     "output_type": "stream",
     "text": [
      "Checking the Training on a Single Batch...\n",
      "Epoch  1, CIFAR-10 Batch 1:  cost= 5.385683, Accuracy= 0.13614\n",
      "Epoch  2, CIFAR-10 Batch 1:  cost= 2.917649, Accuracy= 0.15594\n",
      "Epoch  3, CIFAR-10 Batch 1:  cost= 2.333494, Accuracy= 0.16584\n",
      "Epoch  4, CIFAR-10 Batch 1:  cost= 2.216482, Accuracy= 0.17698\n",
      "Epoch  5, CIFAR-10 Batch 1:  cost= 2.126661, Accuracy= 0.22525\n",
      "Epoch  6, CIFAR-10 Batch 1:  cost= 2.067223, Accuracy= 0.28713\n",
      "Epoch  7, CIFAR-10 Batch 1:  cost= 2.028817, Accuracy= 0.30198\n",
      "Epoch  8, CIFAR-10 Batch 1:  cost= 1.986199, Accuracy= 0.36015\n",
      "Epoch  9, CIFAR-10 Batch 1:  cost= 1.944047, Accuracy= 0.37005\n",
      "Epoch 10, CIFAR-10 Batch 1:  cost= 1.903753, Accuracy= 0.39975\n",
      "Epoch 11, CIFAR-10 Batch 1:  cost= 1.867877, Accuracy= 0.41213\n",
      "Epoch 12, CIFAR-10 Batch 1:  cost= 1.821577, Accuracy= 0.41460\n",
      "Epoch 13, CIFAR-10 Batch 1:  cost= 1.775554, Accuracy= 0.46535\n",
      "Epoch 14, CIFAR-10 Batch 1:  cost= 1.737173, Accuracy= 0.46782\n",
      "Epoch 15, CIFAR-10 Batch 1:  cost= 1.689065, Accuracy= 0.50990\n",
      "Epoch 16, CIFAR-10 Batch 1:  cost= 1.645867, Accuracy= 0.52475\n",
      "Epoch 17, CIFAR-10 Batch 1:  cost= 1.596479, Accuracy= 0.53837\n",
      "Epoch 18, CIFAR-10 Batch 1:  cost= 1.547649, Accuracy= 0.57426\n",
      "Epoch 19, CIFAR-10 Batch 1:  cost= 1.492628, Accuracy= 0.58292\n",
      "Epoch 20, CIFAR-10 Batch 1:  cost= 1.442573, Accuracy= 0.60891\n",
      "Epoch 21, CIFAR-10 Batch 1:  cost= 1.388098, Accuracy= 0.63366\n",
      "Epoch 22, CIFAR-10 Batch 1:  cost= 1.337569, Accuracy= 0.64109\n",
      "Epoch 23, CIFAR-10 Batch 1:  cost= 1.283317, Accuracy= 0.67946\n",
      "Epoch 24, CIFAR-10 Batch 1:  cost= 1.225552, Accuracy= 0.69431\n",
      "Epoch 25, CIFAR-10 Batch 1:  cost= 1.168074, Accuracy= 0.71411\n",
      "Epoch 26, CIFAR-10 Batch 1:  cost= 1.109099, Accuracy= 0.73144\n",
      "Epoch 27, CIFAR-10 Batch 1:  cost= 1.060458, Accuracy= 0.75000\n",
      "Epoch 28, CIFAR-10 Batch 1:  cost= 1.005270, Accuracy= 0.77351\n",
      "Epoch 29, CIFAR-10 Batch 1:  cost= 0.946131, Accuracy= 0.78960\n",
      "Epoch 30, CIFAR-10 Batch 1:  cost= 0.891449, Accuracy= 0.80569\n"
     ]
    }
   ],
   "source": [
    "\"\"\"\n",
    "DON'T MODIFY ANYTHING IN THIS CELL\n",
    "\"\"\"\n",
    "print('Checking the Training on a Single Batch...')\n",
    "with tf.Session() as sess:\n",
    "    # Initializing the variables\n",
    "    sess.run(tf.global_variables_initializer())\n",
    "    \n",
    "    # Training cycle\n",
    "    for epoch in range(epochs):\n",
    "        batch_i = 1\n",
    "        for batch_features, batch_labels in helper.load_preprocess_training_batch(batch_i, batch_size):\n",
    "            train_neural_network(sess, optimizer, keep_probability, batch_features, batch_labels)\n",
    "        print('Epoch {:>2}, CIFAR-10 Batch {}:  '.format(epoch + 1, batch_i), end='')\n",
    "        print_stats(sess, batch_features, batch_labels, cost, accuracy)"
   ]
  },
  {
   "cell_type": "markdown",
   "metadata": {
    "deletable": true,
    "editable": true
   },
   "source": [
    "### Fully Train the Model\n",
    "Now that you got a good accuracy with a single CIFAR-10 batch, try it with all five batches."
   ]
  },
  {
   "cell_type": "code",
   "execution_count": 13,
   "metadata": {
    "collapsed": false,
    "deletable": true,
    "editable": true
   },
   "outputs": [
    {
     "name": "stdout",
     "output_type": "stream",
     "text": [
      "Training...\n",
      "Epoch  1, CIFAR-10 Batch 1:  cost= 4.373925, Accuracy= 0.15347\n",
      "Epoch  1, CIFAR-10 Batch 2:  cost= 2.557555, Accuracy= 0.14480\n",
      "Epoch  1, CIFAR-10 Batch 3:  cost= 2.364375, Accuracy= 0.13985\n",
      "Epoch  1, CIFAR-10 Batch 4:  cost= 2.358430, Accuracy= 0.11634\n",
      "Epoch  1, CIFAR-10 Batch 5:  cost= 2.282610, Accuracy= 0.13738\n",
      "Epoch  2, CIFAR-10 Batch 1:  cost= 2.256065, Accuracy= 0.15965\n",
      "Epoch  2, CIFAR-10 Batch 2:  cost= 2.251595, Accuracy= 0.16708\n",
      "Epoch  2, CIFAR-10 Batch 3:  cost= 2.218880, Accuracy= 0.17079\n",
      "Epoch  2, CIFAR-10 Batch 4:  cost= 2.222624, Accuracy= 0.16089\n",
      "Epoch  2, CIFAR-10 Batch 5:  cost= 2.186523, Accuracy= 0.18688\n",
      "Epoch  3, CIFAR-10 Batch 1:  cost= 2.165908, Accuracy= 0.20050\n",
      "Epoch  3, CIFAR-10 Batch 2:  cost= 2.168490, Accuracy= 0.21287\n",
      "Epoch  3, CIFAR-10 Batch 3:  cost= 2.134955, Accuracy= 0.20916\n",
      "Epoch  3, CIFAR-10 Batch 4:  cost= 2.155848, Accuracy= 0.19802\n",
      "Epoch  3, CIFAR-10 Batch 5:  cost= 2.115916, Accuracy= 0.24010\n",
      "Epoch  4, CIFAR-10 Batch 1:  cost= 2.090738, Accuracy= 0.21535\n",
      "Epoch  4, CIFAR-10 Batch 2:  cost= 2.103875, Accuracy= 0.25619\n",
      "Epoch  4, CIFAR-10 Batch 3:  cost= 2.073902, Accuracy= 0.24505\n",
      "Epoch  4, CIFAR-10 Batch 4:  cost= 2.096673, Accuracy= 0.24629\n",
      "Epoch  4, CIFAR-10 Batch 5:  cost= 2.059816, Accuracy= 0.27475\n",
      "Epoch  5, CIFAR-10 Batch 1:  cost= 2.016670, Accuracy= 0.25619\n",
      "Epoch  5, CIFAR-10 Batch 2:  cost= 2.037346, Accuracy= 0.27970\n",
      "Epoch  5, CIFAR-10 Batch 3:  cost= 2.016061, Accuracy= 0.27970\n",
      "Epoch  5, CIFAR-10 Batch 4:  cost= 2.040966, Accuracy= 0.27723\n",
      "Epoch  5, CIFAR-10 Batch 5:  cost= 2.005031, Accuracy= 0.29950\n",
      "Epoch  6, CIFAR-10 Batch 1:  cost= 1.957577, Accuracy= 0.29332\n",
      "Epoch  6, CIFAR-10 Batch 2:  cost= 1.985156, Accuracy= 0.31064\n",
      "Epoch  6, CIFAR-10 Batch 3:  cost= 1.962763, Accuracy= 0.30569\n",
      "Epoch  6, CIFAR-10 Batch 4:  cost= 1.994188, Accuracy= 0.30198\n",
      "Epoch  6, CIFAR-10 Batch 5:  cost= 1.949558, Accuracy= 0.31807\n",
      "Epoch  7, CIFAR-10 Batch 1:  cost= 1.901539, Accuracy= 0.33911\n",
      "Epoch  7, CIFAR-10 Batch 2:  cost= 1.930790, Accuracy= 0.34035\n",
      "Epoch  7, CIFAR-10 Batch 3:  cost= 1.910784, Accuracy= 0.31683\n",
      "Epoch  7, CIFAR-10 Batch 4:  cost= 1.946534, Accuracy= 0.31683\n",
      "Epoch  7, CIFAR-10 Batch 5:  cost= 1.893017, Accuracy= 0.34777\n",
      "Epoch  8, CIFAR-10 Batch 1:  cost= 1.843464, Accuracy= 0.35891\n",
      "Epoch  8, CIFAR-10 Batch 2:  cost= 1.875977, Accuracy= 0.37252\n",
      "Epoch  8, CIFAR-10 Batch 3:  cost= 1.863878, Accuracy= 0.34901\n",
      "Epoch  8, CIFAR-10 Batch 4:  cost= 1.890195, Accuracy= 0.34530\n",
      "Epoch  8, CIFAR-10 Batch 5:  cost= 1.840738, Accuracy= 0.38738\n",
      "Epoch  9, CIFAR-10 Batch 1:  cost= 1.784196, Accuracy= 0.39356\n",
      "Epoch  9, CIFAR-10 Batch 2:  cost= 1.814564, Accuracy= 0.39480\n",
      "Epoch  9, CIFAR-10 Batch 3:  cost= 1.811252, Accuracy= 0.37252\n",
      "Epoch  9, CIFAR-10 Batch 4:  cost= 1.838093, Accuracy= 0.37376\n",
      "Epoch  9, CIFAR-10 Batch 5:  cost= 1.782640, Accuracy= 0.40842\n",
      "Epoch 10, CIFAR-10 Batch 1:  cost= 1.725192, Accuracy= 0.43069\n",
      "Epoch 10, CIFAR-10 Batch 2:  cost= 1.766673, Accuracy= 0.41832\n",
      "Epoch 10, CIFAR-10 Batch 3:  cost= 1.756001, Accuracy= 0.39975\n",
      "Epoch 10, CIFAR-10 Batch 4:  cost= 1.781605, Accuracy= 0.39728\n",
      "Epoch 10, CIFAR-10 Batch 5:  cost= 1.724605, Accuracy= 0.42822\n",
      "Epoch 11, CIFAR-10 Batch 1:  cost= 1.661211, Accuracy= 0.45545\n",
      "Epoch 11, CIFAR-10 Batch 2:  cost= 1.707041, Accuracy= 0.44926\n",
      "Epoch 11, CIFAR-10 Batch 3:  cost= 1.700246, Accuracy= 0.41089\n",
      "Epoch 11, CIFAR-10 Batch 4:  cost= 1.721972, Accuracy= 0.42946\n",
      "Epoch 11, CIFAR-10 Batch 5:  cost= 1.661325, Accuracy= 0.46658\n",
      "Epoch 12, CIFAR-10 Batch 1:  cost= 1.602044, Accuracy= 0.47525\n",
      "Epoch 12, CIFAR-10 Batch 2:  cost= 1.639460, Accuracy= 0.48639\n",
      "Epoch 12, CIFAR-10 Batch 3:  cost= 1.641917, Accuracy= 0.46782\n",
      "Epoch 12, CIFAR-10 Batch 4:  cost= 1.656221, Accuracy= 0.44802\n",
      "Epoch 12, CIFAR-10 Batch 5:  cost= 1.605227, Accuracy= 0.49752\n",
      "Epoch 13, CIFAR-10 Batch 1:  cost= 1.547276, Accuracy= 0.50619\n",
      "Epoch 13, CIFAR-10 Batch 2:  cost= 1.586469, Accuracy= 0.49629\n",
      "Epoch 13, CIFAR-10 Batch 3:  cost= 1.589415, Accuracy= 0.48144\n",
      "Epoch 13, CIFAR-10 Batch 4:  cost= 1.597064, Accuracy= 0.48886\n",
      "Epoch 13, CIFAR-10 Batch 5:  cost= 1.540192, Accuracy= 0.52599\n",
      "Epoch 14, CIFAR-10 Batch 1:  cost= 1.487293, Accuracy= 0.53342\n",
      "Epoch 14, CIFAR-10 Batch 2:  cost= 1.516804, Accuracy= 0.53960\n",
      "Epoch 14, CIFAR-10 Batch 3:  cost= 1.538006, Accuracy= 0.50248\n",
      "Epoch 14, CIFAR-10 Batch 4:  cost= 1.531180, Accuracy= 0.51485\n",
      "Epoch 14, CIFAR-10 Batch 5:  cost= 1.467238, Accuracy= 0.55941\n",
      "Epoch 15, CIFAR-10 Batch 1:  cost= 1.431231, Accuracy= 0.57054\n",
      "Epoch 15, CIFAR-10 Batch 2:  cost= 1.456415, Accuracy= 0.55074\n",
      "Epoch 15, CIFAR-10 Batch 3:  cost= 1.490177, Accuracy= 0.54084\n",
      "Epoch 15, CIFAR-10 Batch 4:  cost= 1.479029, Accuracy= 0.54827\n",
      "Epoch 15, CIFAR-10 Batch 5:  cost= 1.400844, Accuracy= 0.58292\n",
      "Epoch 16, CIFAR-10 Batch 1:  cost= 1.385712, Accuracy= 0.57921\n",
      "Epoch 16, CIFAR-10 Batch 2:  cost= 1.397228, Accuracy= 0.58416\n",
      "Epoch 16, CIFAR-10 Batch 3:  cost= 1.433403, Accuracy= 0.55569\n",
      "Epoch 16, CIFAR-10 Batch 4:  cost= 1.469034, Accuracy= 0.52599\n",
      "Epoch 16, CIFAR-10 Batch 5:  cost= 1.343465, Accuracy= 0.60272\n",
      "Epoch 17, CIFAR-10 Batch 1:  cost= 1.332145, Accuracy= 0.60272\n",
      "Epoch 17, CIFAR-10 Batch 2:  cost= 1.387649, Accuracy= 0.57797\n",
      "Epoch 17, CIFAR-10 Batch 3:  cost= 1.410370, Accuracy= 0.55941\n",
      "Epoch 17, CIFAR-10 Batch 4:  cost= 1.431684, Accuracy= 0.56559\n",
      "Epoch 17, CIFAR-10 Batch 5:  cost= 1.335735, Accuracy= 0.59282\n",
      "Epoch 18, CIFAR-10 Batch 1:  cost= 1.340536, Accuracy= 0.58416\n",
      "Epoch 18, CIFAR-10 Batch 2:  cost= 1.360955, Accuracy= 0.58045\n",
      "Epoch 18, CIFAR-10 Batch 3:  cost= 1.365435, Accuracy= 0.59158\n",
      "Epoch 18, CIFAR-10 Batch 4:  cost= 1.399854, Accuracy= 0.57302\n",
      "Epoch 18, CIFAR-10 Batch 5:  cost= 1.316739, Accuracy= 0.60644\n",
      "Epoch 19, CIFAR-10 Batch 1:  cost= 1.259175, Accuracy= 0.61881\n",
      "Epoch 19, CIFAR-10 Batch 2:  cost= 1.308937, Accuracy= 0.61510\n",
      "Epoch 19, CIFAR-10 Batch 3:  cost= 1.309548, Accuracy= 0.62871\n",
      "Epoch 19, CIFAR-10 Batch 4:  cost= 1.345184, Accuracy= 0.59158\n",
      "Epoch 19, CIFAR-10 Batch 5:  cost= 1.269375, Accuracy= 0.63366\n",
      "Epoch 20, CIFAR-10 Batch 1:  cost= 1.199194, Accuracy= 0.64480\n",
      "Epoch 20, CIFAR-10 Batch 2:  cost= 1.253581, Accuracy= 0.64233\n",
      "Epoch 20, CIFAR-10 Batch 3:  cost= 1.271722, Accuracy= 0.61139\n",
      "Epoch 20, CIFAR-10 Batch 4:  cost= 1.298574, Accuracy= 0.60149\n",
      "Epoch 20, CIFAR-10 Batch 5:  cost= 1.214269, Accuracy= 0.63738\n",
      "Epoch 21, CIFAR-10 Batch 1:  cost= 1.172196, Accuracy= 0.65842\n",
      "Epoch 21, CIFAR-10 Batch 2:  cost= 1.227313, Accuracy= 0.63243\n",
      "Epoch 21, CIFAR-10 Batch 3:  cost= 1.254655, Accuracy= 0.62252\n",
      "Epoch 21, CIFAR-10 Batch 4:  cost= 1.242904, Accuracy= 0.63119\n",
      "Epoch 21, CIFAR-10 Batch 5:  cost= 1.152254, Accuracy= 0.67203\n",
      "Epoch 22, CIFAR-10 Batch 1:  cost= 1.126750, Accuracy= 0.65223\n",
      "Epoch 22, CIFAR-10 Batch 2:  cost= 1.157643, Accuracy= 0.67946\n",
      "Epoch 22, CIFAR-10 Batch 3:  cost= 1.212313, Accuracy= 0.63614\n",
      "Epoch 22, CIFAR-10 Batch 4:  cost= 1.248987, Accuracy= 0.63366\n",
      "Epoch 22, CIFAR-10 Batch 5:  cost= 1.132994, Accuracy= 0.67450\n",
      "Epoch 23, CIFAR-10 Batch 1:  cost= 1.102080, Accuracy= 0.68317\n",
      "Epoch 23, CIFAR-10 Batch 2:  cost= 1.159645, Accuracy= 0.65470\n",
      "Epoch 23, CIFAR-10 Batch 3:  cost= 1.165175, Accuracy= 0.66089\n",
      "Epoch 23, CIFAR-10 Batch 4:  cost= 1.218703, Accuracy= 0.62748\n",
      "Epoch 23, CIFAR-10 Batch 5:  cost= 1.142880, Accuracy= 0.66584\n",
      "Epoch 24, CIFAR-10 Batch 1:  cost= 1.101912, Accuracy= 0.67079\n",
      "Epoch 24, CIFAR-10 Batch 2:  cost= 1.133031, Accuracy= 0.66213\n",
      "Epoch 24, CIFAR-10 Batch 3:  cost= 1.142322, Accuracy= 0.67327\n",
      "Epoch 24, CIFAR-10 Batch 4:  cost= 1.181499, Accuracy= 0.64728\n",
      "Epoch 24, CIFAR-10 Batch 5:  cost= 1.105135, Accuracy= 0.67946\n",
      "Epoch 25, CIFAR-10 Batch 1:  cost= 1.068313, Accuracy= 0.67327\n",
      "Epoch 25, CIFAR-10 Batch 2:  cost= 1.127725, Accuracy= 0.67946\n",
      "Epoch 25, CIFAR-10 Batch 3:  cost= 1.111697, Accuracy= 0.66832\n",
      "Epoch 25, CIFAR-10 Batch 4:  cost= 1.160098, Accuracy= 0.64975\n",
      "Epoch 25, CIFAR-10 Batch 5:  cost= 1.111685, Accuracy= 0.69307\n",
      "Epoch 26, CIFAR-10 Batch 1:  cost= 1.038379, Accuracy= 0.67698\n",
      "Epoch 26, CIFAR-10 Batch 2:  cost= 1.083171, Accuracy= 0.68688\n",
      "Epoch 26, CIFAR-10 Batch 3:  cost= 1.086915, Accuracy= 0.66832\n",
      "Epoch 26, CIFAR-10 Batch 4:  cost= 1.111850, Accuracy= 0.64851\n",
      "Epoch 26, CIFAR-10 Batch 5:  cost= 1.067458, Accuracy= 0.69183\n",
      "Epoch 27, CIFAR-10 Batch 1:  cost= 1.006638, Accuracy= 0.68688\n",
      "Epoch 27, CIFAR-10 Batch 2:  cost= 1.030235, Accuracy= 0.69431\n",
      "Epoch 27, CIFAR-10 Batch 3:  cost= 1.083681, Accuracy= 0.68193\n",
      "Epoch 27, CIFAR-10 Batch 4:  cost= 1.084967, Accuracy= 0.66955\n",
      "Epoch 27, CIFAR-10 Batch 5:  cost= 1.025414, Accuracy= 0.70545\n",
      "Epoch 28, CIFAR-10 Batch 1:  cost= 1.011295, Accuracy= 0.70545\n",
      "Epoch 28, CIFAR-10 Batch 2:  cost= 1.014164, Accuracy= 0.69802\n",
      "Epoch 28, CIFAR-10 Batch 3:  cost= 1.041284, Accuracy= 0.68441\n",
      "Epoch 28, CIFAR-10 Batch 4:  cost= 1.082478, Accuracy= 0.68317\n",
      "Epoch 28, CIFAR-10 Batch 5:  cost= 1.001414, Accuracy= 0.70668\n",
      "Epoch 29, CIFAR-10 Batch 1:  cost= 1.024838, Accuracy= 0.68812\n",
      "Epoch 29, CIFAR-10 Batch 2:  cost= 1.007304, Accuracy= 0.70173\n",
      "Epoch 29, CIFAR-10 Batch 3:  cost= 1.023702, Accuracy= 0.66955\n",
      "Epoch 29, CIFAR-10 Batch 4:  cost= 1.057400, Accuracy= 0.66337\n",
      "Epoch 29, CIFAR-10 Batch 5:  cost= 0.957367, Accuracy= 0.72277\n",
      "Epoch 30, CIFAR-10 Batch 1:  cost= 0.963392, Accuracy= 0.70545\n",
      "Epoch 30, CIFAR-10 Batch 2:  cost= 1.026193, Accuracy= 0.68069\n",
      "Epoch 30, CIFAR-10 Batch 3:  cost= 0.997351, Accuracy= 0.68936\n",
      "Epoch 30, CIFAR-10 Batch 4:  cost= 1.033508, Accuracy= 0.68936\n",
      "Epoch 30, CIFAR-10 Batch 5:  cost= 0.980149, Accuracy= 0.70545\n"
     ]
    }
   ],
   "source": [
    "\"\"\"\n",
    "DON'T MODIFY ANYTHING IN THIS CELL\n",
    "\"\"\"\n",
    "save_model_path = './image_classification'\n",
    "\n",
    "print('Training...')\n",
    "with tf.Session() as sess:\n",
    "    # Initializing the variables\n",
    "    sess.run(tf.global_variables_initializer())\n",
    "    \n",
    "    # Training cycle\n",
    "    for epoch in range(epochs):\n",
    "        # Loop over all batches\n",
    "        n_batches = 5\n",
    "        for batch_i in range(1, n_batches + 1):\n",
    "            for batch_features, batch_labels in helper.load_preprocess_training_batch(batch_i, batch_size):\n",
    "                train_neural_network(sess, optimizer, keep_probability, batch_features, batch_labels)\n",
    "            print('Epoch {:>2}, CIFAR-10 Batch {}:  '.format(epoch + 1, batch_i), end='')\n",
    "            print_stats(sess, batch_features, batch_labels, cost, accuracy)\n",
    "            \n",
    "    # Save Model\n",
    "    saver = tf.train.Saver()\n",
    "    save_path = saver.save(sess, save_model_path)"
   ]
  },
  {
   "cell_type": "markdown",
   "metadata": {
    "deletable": true,
    "editable": true
   },
   "source": [
    "# Checkpoint\n",
    "The model has been saved to disk.\n",
    "## Test Model\n",
    "Test your model against the test dataset.  This will be your final accuracy. You should have an accuracy greater than 50%. If you don't, keep tweaking the model architecture and parameters."
   ]
  },
  {
   "cell_type": "code",
   "execution_count": 14,
   "metadata": {
    "collapsed": false,
    "deletable": true,
    "editable": true
   },
   "outputs": [
    {
     "name": "stdout",
     "output_type": "stream",
     "text": [
      "Testing Accuracy: 0.1746232032775879\n",
      "\n"
     ]
    },
    {
     "data": {
      "image/png": "[encoded data removed]",
      "text/plain": [
       "<matplotlib.figure.Figure at 0x7ff247b6bf28>"
      ]
     },
     "metadata": {
      "image/png": {
       "height": 319,
       "width": 355
      }
     },
     "output_type": "display_data"
    }
   ],
   "source": [
    "\"\"\"\n",
    "DON'T MODIFY ANYTHING IN THIS CELL\n",
    "\"\"\"\n",
    "%matplotlib inline\n",
    "%config InlineBackend.figure_format = 'retina'\n",
    "\n",
    "import tensorflow as tf\n",
    "import pickle\n",
    "import helper\n",
    "import random\n",
    "\n",
    "# Set batch size if not already set\n",
    "try:\n",
    "    if batch_size:\n",
    "        pass\n",
    "except NameError:\n",
    "    batch_size = 64\n",
    "\n",
    "save_model_path = './image_classification'\n",
    "n_samples = 4\n",
    "top_n_predictions = 3\n",
    "\n",
    "def test_model():\n",
    "    \"\"\"\n",
    "    Test the saved model against the test dataset\n",
    "    \"\"\"\n",
    "\n",
    "    test_features, test_labels = pickle.load(open('preprocess_training.p', mode='rb'))\n",
    "    loaded_graph = tf.Graph()\n",
    "\n",
    "    with tf.Session(graph=loaded_graph) as sess:\n",
    "        # Load model\n",
    "        loader = tf.train.import_meta_graph(save_model_path + '.meta')\n",
    "        loader.restore(sess, save_model_path)\n",
    "\n",
    "        # Get Tensors from loaded model\n",
    "        loaded_x = loaded_graph.get_tensor_by_name('x:0')\n",
    "        loaded_y = loaded_graph.get_tensor_by_name('y:0')\n",
    "        loaded_keep_prob = loaded_graph.get_tensor_by_name('keep_prob:0')\n",
    "        loaded_logits = loaded_graph.get_tensor_by_name('logits:0')\n",
    "        loaded_acc = loaded_graph.get_tensor_by_name('accuracy:0')\n",
    "        \n",
    "        # Get accuracy in batches for memory limitations\n",
    "        test_batch_acc_total = 0\n",
    "        test_batch_count = 0\n",
    "        \n",
    "        for train_feature_batch, train_label_batch in helper.batch_features_labels(test_features, test_labels, batch_size):\n",
    "            test_batch_acc_total += sess.run(\n",
    "                loaded_acc,\n",
    "                feed_dict={loaded_x: train_feature_batch, loaded_y: train_label_batch, loaded_keep_prob: 1.0})\n",
    "            test_batch_count += 1\n",
    "\n",
    "        print('Testing Accuracy: {}\\n'.format(test_batch_acc_total/test_batch_count))\n",
    "\n",
    "        # Print Random Samples\n",
    "        random_test_features, random_test_labels = tuple(zip(*random.sample(list(zip(test_features, test_labels)), n_samples)))\n",
    "        random_test_predictions = sess.run(\n",
    "            tf.nn.top_k(tf.nn.softmax(loaded_logits), top_n_predictions),\n",
    "            feed_dict={loaded_x: random_test_features, loaded_y: random_test_labels, loaded_keep_prob: 1.0})\n",
    "        helper.display_image_predictions(random_test_features, random_test_labels, random_test_predictions)\n",
    "\n",
    "\n",
    "test_model()"
   ]
  },
  {
   "cell_type": "markdown",
   "metadata": {
    "deletable": true,
    "editable": true
   },
   "source": [
    "## Why 50-80% Accuracy?\n",
    "You might be wondering why you can't get an accuracy any higher. First things first, 50% isn't bad for a simple CNN.  Pure guessing would get you 10% accuracy. However, you might notice people are getting scores [well above 80%](http://rodrigob.github.io/are_we_there_yet/build/classification_datasets_results.html#43494641522d3130).  That's because we haven't taught you all there is to know about neural networks. We still need to cover a few more techniques.\n",
    "## Submitting This Project\n",
    "When submitting this project, make sure to run all the cells before saving the notebook.  Save the notebook file as \"dlnd_image_classification.ipynb\" and save it as a HTML file under \"File\" -> \"Download as\".  Include the \"helper.py\" and \"problem_unittests.py\" files in your submission."
   ]
  }
 ],
 "metadata": {
  "kernelspec": {
   "display_name": "Python 3",
   "language": "python",
   "name": "python3"
  },
  "language_info": {
   "codemirror_mode": {
    "name": "ipython",
    "version": 3
   },
   "file_extension": ".py",
   "mimetype": "text/x-python",
   "name": "python",
   "nbconvert_exporter": "python",
   "pygments_lexer": "ipython3",
   "version": "3.5.2"
  },
  "widgets": {
   "state": {},
   "version": "1.1.2"
  }
 },
 "nbformat": 4,
 "nbformat_minor": 0
}
